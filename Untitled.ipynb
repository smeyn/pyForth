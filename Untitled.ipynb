{
 "cells": [
  {
   "cell_type": "code",
   "execution_count": 34,
   "metadata": {
    "collapsed": true
   },
   "outputs": [],
   "source": [
    "class CompiledPrimitive():\n",
    "\n",
    "\tdef __init__(self, func, isImmediate=False, executeOnly=False, inColonOnly=False):\n",
    "\t\tself.func = func\n",
    "\t\tself.isImmediate =  isImmediate\n",
    "\t\tself.executeOnly = executeOnly\n",
    "\t\tself.inColonOnly = inColonOnly\n",
    "\n",
    "\tdef execute(self, interpreter):\n",
    "\t\tself.func(interpreter)\n",
    "\n"
   ]
  },
  {
   "cell_type": "code",
   "execution_count": 35,
   "metadata": {
    "collapsed": true
   },
   "outputs": [],
   "source": [
    "vocabulary = {}"
   ]
  },
  {
   "cell_type": "code",
   "execution_count": 36,
   "metadata": {},
   "outputs": [],
   "source": [
    "class forthprim:\n",
    "    global vocabulary\n",
    "    def __init__(self, name,  isImmediate=False, executeOnly=False, inColonOnly=False, voc=vocabulary ):\n",
    "        self.name = name\n",
    "        self.isImmediate=isImmediate\n",
    "        self.executeOnly=executeOnly\n",
    "        self.inColonOnly=inColonOnly\n",
    "        self.voc = voc\n",
    "        print (\"forthprim init for f={}\".format(name))\n",
    "    def __call__(self, f):        \n",
    "        print(\"Decorating '{}->{}'\".format(f.__name__, self.name))\n",
    "        self.voc[self.name]=CompiledPrimitive(f,isImmediate=self.isImmediate, executeOnly=self.executeOnly, inColonOnly=self.inColonOnly )"
   ]
  },
  {
   "cell_type": "code",
   "execution_count": 37,
   "metadata": {},
   "outputs": [
    {
     "name": "stdout",
     "output_type": "stream",
     "text": [
      "forthprim init for f=.\n",
      "Decorating 'forth_print->.'\n"
     ]
    }
   ],
   "source": [
    "@forthprim (\".\")\n",
    "def forth_print(interpreter):\n",
    "\tsp = interpreter.stack\n",
    "\ttop = sp[-1]\n",
    "\tsp.pop()\n",
    "\tprint(top)"
   ]
  },
  {
   "cell_type": "code",
   "execution_count": 38,
   "metadata": {},
   "outputs": [
    {
     "data": {
      "text/plain": [
       "{'.': <__main__.CompiledPrimitive at 0x22e67045cf8>}"
      ]
     },
     "execution_count": 38,
     "metadata": {},
     "output_type": "execute_result"
    }
   ],
   "source": [
    "vocabulary\n"
   ]
  },
  {
   "cell_type": "code",
   "execution_count": 39,
   "metadata": {},
   "outputs": [
    {
     "name": "stdout",
     "output_type": "stream",
     "text": [
      "forthprim init for f=.\n",
      "Decorating 'forth_print->.'\n"
     ]
    }
   ],
   "source": [
    "@forthprim (\".\",executeOnly=True)\n",
    "def forth_print(interpreter):\n",
    "\tsp = interpreter.stack\n",
    "\ttop = sp[-1]\n",
    "\tsp.pop()\n",
    "\tprint(top)"
   ]
  },
  {
   "cell_type": "code",
   "execution_count": 40,
   "metadata": {},
   "outputs": [
    {
     "data": {
      "text/plain": [
       "True"
      ]
     },
     "execution_count": 40,
     "metadata": {},
     "output_type": "execute_result"
    }
   ],
   "source": [
    "vocabulary[\".\"].executeOnly\n"
   ]
  },
  {
   "cell_type": "code",
   "execution_count": null,
   "metadata": {
    "collapsed": true
   },
   "outputs": [],
   "source": []
  }
 ],
 "metadata": {
  "kernelspec": {
   "display_name": "Python 3",
   "language": "python",
   "name": "python3"
  },
  "language_info": {
   "codemirror_mode": {
    "name": "ipython",
    "version": 3
   },
   "file_extension": ".py",
   "mimetype": "text/x-python",
   "name": "python",
   "nbconvert_exporter": "python",
   "pygments_lexer": "ipython3",
   "version": "3.6.1"
  }
 },
 "nbformat": 4,
 "nbformat_minor": 2
}
